{
 "cells": [
  {
   "cell_type": "code",
   "execution_count": null,
   "metadata": {},
   "outputs": [],
   "source": [
    "%pip install tensorflow matplotlib"
   ]
  },
  {
   "cell_type": "code",
   "execution_count": null,
   "metadata": {},
   "outputs": [],
   "source": [
    "%pip install matplotlib"
   ]
  },
  {
   "cell_type": "code",
   "execution_count": 1,
   "metadata": {},
   "outputs": [],
   "source": [
    "import pickle\n",
    "import tensorflow as tf\n",
    "import matplotlib.pyplot as plt"
   ]
  },
  {
   "cell_type": "code",
   "execution_count": 2,
   "metadata": {},
   "outputs": [],
   "source": [
    "with open('./custom_mosi.pickle', 'rb') as fp:\n",
    "    data = pickle.load(fp)"
   ]
  },
  {
   "cell_type": "code",
   "execution_count": 8,
   "metadata": {},
   "outputs": [
    {
     "name": "stdout",
     "output_type": "stream",
     "text": [
      "(35,)\n"
     ]
    }
   ],
   "source": [
    "# Model Definition\n",
    "\n",
    "# Modality Specific Module\n",
    "class ModalitySpecificModule:\n",
    "    @staticmethod\n",
    "    def extract_modality_specific_interactions(self, input_layer):\n",
    "        bi_gru_output = tf.keras.layers.Bidirectional(tf.keras.layers.GRU(64))(input_layer)\n",
    "        msl_l1 = tf.keras.layers.Dense(128, activation='relu')(bi_gru_output)\n",
    "        msl_output = tf.keras.layers.Dense(64, activation='relu')(msl_l1)\n",
    "        return msl_output\n",
    "\n",
    "    # Define inputs\n",
    "    text_input = tf.keras.Input(shape=(300,))\n",
    "    audio_input = tf.keras.Input(shape=(1585,))\n",
    "    visual_input = tf.keras.Input(shape=(35,))\n",
    "\n",
    "    @staticmethod\n",
    "    def compute(text_input, audio_input, visual_input):\n",
    "        # Extract Modality Specific Interactions\n",
    "        text_msm_output = ModalitySpecificModule.extract_modality_specific_interactions(text_input)\n",
    "        audio_msm_output = ModalitySpecificModule.extract_modality_specific_interactions(audio_input)\n",
    "        visual_msm_output = ModalitySpecificModule.extract_modality_specific_interactions(visual_input)\n",
    "        return text_msm_output, audio_msm_output, visual_msm_output\n",
    "\n",
    "\n",
    "# Dense Multimodal Fusion Module\n",
    "class DenseMultimodalFusionModule:\n",
    "    residual_features = []\n",
    "\n",
    "    @staticmethod\n",
    "    def df_block(df_input1, df_input2, df_input3):\n",
    "        df_output1 = tf.keras.layers.Dense(64, activation='relu')(df_input1)\n",
    "        df_output2 = tf.keras.layers.Dense(64, activation='relu')(df_input2)\n",
    "        df_output3 = tf.keras.layers.Dense(64, activation='relu')(df_input3)\n",
    "        return df_output1, df_output2, df_output3\n",
    "        \n",
    "    @staticmethod\n",
    "    def dense_fusion_layer(f1, f2, f3):\n",
    "        df_input1 = tf.keras.layers.Concatenate()([f1, f3])\n",
    "        df_input2 = tf.keras.layers.Concatenate()([f1, f2])\n",
    "        df_input3 = tf.keras.layers.Concatenate()([f2, f3])\n",
    "        r = tf.add(f1, f2, f3)\n",
    "        DenseMultimodalFusionModule.residual_features.append(r)\n",
    "        fusion_output = DenseMultimodalFusionModule.df_block(df_input1, df_input2, df_input3)\n",
    "        return fusion_output\n",
    "    \n",
    "    @staticmethod\n",
    "    def compute(f1_0, f2_0, f3_0):\n",
    "        f1_1, f2_1, f3_1 = DenseMultimodalFusionModule.dense_fusion_layer(f1_0, f2_0, f3_0)\n",
    "        f1_2, f2_2, f3_2 = DenseMultimodalFusionModule.dense_fusion_layer(f1_1, f2_1, f3_1)\n",
    "        f1_3, f2_3, f3_3 = DenseMultimodalFusionModule.dense_fusion_layer(f1_2, f2_2, f3_2)\n",
    "        r = tf.add(f1_3, f2_3, f3_3)\n",
    "        DenseMultimodalFusionModule.residual_features.append(r)\n",
    "        return DenseMultimodalFusionModule.residual_features\n",
    "\n",
    "\n",
    "# Multimodal Residual Module\n",
    "class MultimodalResidualModule:\n",
    "    @staticmethod\n",
    "    def compute(residual_features):\n",
    "        final_residual_feature = residual_features[0]\n",
    "        for r in residual_features[1:]:\n",
    "            final_residual_feature = tf.add(final_residual_feature, r)\n",
    "        return final_residual_feature\n",
    "\n",
    "# Sentiment Classification Module\n",
    "class SentimentClassificationModule:\n",
    "    @staticmethod\n",
    "    def compute(residual_feature):\n",
    "        output_l1 = tf.keras.layers.Dense(64, activation='relu')(residual_feature)\n",
    "        output_l2 = tf.keras.layers.Dense(32, activation='relu')(output_l1)\n",
    "        output_l3 = tf.keras.layers.Dense(16, activation='relu')(output_l2)\n",
    "        sentiment_output = tf.keras.layers.Dense(1, activation='relu')(output_l3)\n",
    "        return sentiment_output\n",
    "\n",
    "text_input, audio_input, visual_input = ModalitySpecificModule.text_input, ModalitySpecificModule.audio_input, ModalitySpecificModule.visual_input\n",
    "text_msm_output, audio_msm_output, visual_msm_output = ModalitySpecificModule.compute(text_input, audio_input, visual_input)\n",
    "residual_features = DenseMultimodalFusionModule.compute(text_msm_output, audio_msm_output, visual_msm_output)\n",
    "final_residual_feature = MultimodalResidualModule.compute(residual_features)\n",
    "output = SentimentClassificationModule.compute(final_residual_feature)\n",
    "\n",
    "\n",
    "model = tf.keras.Model(inputs=[text_input, audio_input, visual_input], outputs=output)"
   ]
  }
 ],
 "metadata": {
  "kernelspec": {
   "display_name": ".venv",
   "language": "python",
   "name": "python3"
  },
  "language_info": {
   "codemirror_mode": {
    "name": "ipython",
    "version": 3
   },
   "file_extension": ".py",
   "mimetype": "text/x-python",
   "name": "python",
   "nbconvert_exporter": "python",
   "pygments_lexer": "ipython3",
   "version": "3.8.10"
  }
 },
 "nbformat": 4,
 "nbformat_minor": 2
}
