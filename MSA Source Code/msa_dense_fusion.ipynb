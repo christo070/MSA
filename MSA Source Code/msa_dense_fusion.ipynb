{
 "cells": [
  {
   "cell_type": "code",
   "execution_count": 1,
   "metadata": {},
   "outputs": [
    {
     "name": "stdout",
     "output_type": "stream",
     "text": [
      "Package            Version\n",
      "------------------ ----------\n",
      "asttokens          2.4.1\n",
      "certifi            2023.11.17\n",
      "charset-normalizer 3.3.2\n",
      "colorama           0.4.6\n",
      "comm               0.2.1\n",
      "debugpy            1.8.0\n",
      "decorator          5.1.1\n",
      "executing          2.0.1\n",
      "h5py               3.10.0\n",
      "idna               3.6\n",
      "ipykernel          6.29.0\n",
      "ipython            8.20.0\n",
      "jedi               0.19.1\n",
      "jupyter_client     8.6.0\n",
      "jupyter_core       5.7.1\n",
      "matplotlib-inline  0.1.6\n",
      "nest-asyncio       1.5.9\n",
      "numpy              1.26.3\n",
      "packaging          23.2\n",
      "parso              0.8.3\n",
      "pexpect            4.9.0\n",
      "pip                23.3.2\n",
      "platformdirs       4.1.0\n",
      "prompt-toolkit     3.0.43\n",
      "psutil             5.9.7\n",
      "ptyprocess         0.7.0\n",
      "pure-eval          0.2.2\n",
      "Pygments           2.17.2\n",
      "python-dateutil    2.8.2\n",
      "pyzmq              25.1.2\n",
      "requests           2.31.0\n",
      "scipy              1.11.4\n",
      "setuptools         66.1.1\n",
      "six                1.16.0\n",
      "smart-open         6.4.0\n",
      "stack-data         0.6.3\n",
      "tornado            6.4\n",
      "tqdm               4.66.1\n",
      "traitlets          5.14.1\n",
      "urllib3            2.1.0\n",
      "validators         0.22.0\n",
      "wcwidth            0.2.13\n"
     ]
    }
   ],
   "source": [
    "!pip list"
   ]
  }
 ],
 "metadata": {
  "kernelspec": {
   "display_name": ".venv",
   "language": "python",
   "name": "python3"
  },
  "language_info": {
   "codemirror_mode": {
    "name": "ipython",
    "version": 3
   },
   "file_extension": ".py",
   "mimetype": "text/x-python",
   "name": "python",
   "nbconvert_exporter": "python",
   "pygments_lexer": "ipython3",
   "version": "3.11.2"
  }
 },
 "nbformat": 4,
 "nbformat_minor": 2
}
