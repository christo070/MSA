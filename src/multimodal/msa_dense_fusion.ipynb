{
  "cells": [
    {
      "cell_type": "code",
      "source": [
        "from google.colab import drive\n",
        "drive.mount('/content/drive')"
      ],
      "metadata": {
        "colab": {
          "base_uri": "https://localhost:8080/"
        },
        "id": "sKMiSe-_TpYB",
        "outputId": "bd231c86-759a-4a6d-c184-98de6f6fa2fa"
      },
      "execution_count": null,
      "outputs": [
        {
          "output_type": "stream",
          "name": "stdout",
          "text": [
            "Drive already mounted at /content/drive; to attempt to forcibly remount, call drive.mount(\"/content/drive\", force_remount=True).\n"
          ]
        }
      ]
    },
    {
      "cell_type": "code",
      "execution_count": null,
      "metadata": {
        "id": "aAIVs_9uTkId"
      },
      "outputs": [],
      "source": [
        "import pickle\n",
        "import tensorflow as tf\n",
        "import matplotlib.pyplot as plt\n",
        "import numpy as np\n",
        "import torch\n",
        "import keras"
      ]
    },
    {
      "cell_type": "code",
      "execution_count": null,
      "metadata": {
        "colab": {
          "base_uri": "https://localhost:8080/"
        },
        "id": "wuLxyBeOTkIg",
        "outputId": "4358530b-b3b4-49c5-8d6f-db60d2a1d119"
      },
      "outputs": [
        {
          "output_type": "stream",
          "name": "stdout",
          "text": [
            "Model: \"model_7\"\n",
            "__________________________________________________________________________________________________\n",
            " Layer (type)                Output Shape                 Param #   Connected to                  \n",
            "==================================================================================================\n",
            " input_22 (InputLayer)       [(None, 50, 300)]            0         []                            \n",
            "                                                                                                  \n",
            " input_23 (InputLayer)       [(None, 50, 5)]              0         []                            \n",
            "                                                                                                  \n",
            " input_24 (InputLayer)       [(None, 50, 20)]             0         []                            \n",
            "                                                                                                  \n",
            " bidirectional_21 (Bidirect  (None, 128)                  140544    ['input_22[0][0]']            \n",
            " ional)                                                                                           \n",
            "                                                                                                  \n",
            " bidirectional_22 (Bidirect  (None, 128)                  27264     ['input_23[0][0]']            \n",
            " ional)                                                                                           \n",
            "                                                                                                  \n",
            " bidirectional_23 (Bidirect  (None, 128)                  33024     ['input_24[0][0]']            \n",
            " ional)                                                                                           \n",
            "                                                                                                  \n",
            " dense_140 (Dense)           (None, 64)                   8256      ['bidirectional_21[0][0]']    \n",
            "                                                                                                  \n",
            " dense_142 (Dense)           (None, 64)                   8256      ['bidirectional_22[0][0]']    \n",
            "                                                                                                  \n",
            " dense_144 (Dense)           (None, 64)                   8256      ['bidirectional_23[0][0]']    \n",
            "                                                                                                  \n",
            " dense_141 (Dense)           (None, 128)                  8320      ['dense_140[0][0]']           \n",
            "                                                                                                  \n",
            " dense_143 (Dense)           (None, 128)                  8320      ['dense_142[0][0]']           \n",
            "                                                                                                  \n",
            " dense_145 (Dense)           (None, 128)                  8320      ['dense_144[0][0]']           \n",
            "                                                                                                  \n",
            " concatenate_63 (Concatenat  (None, 256)                  0         ['dense_141[0][0]',           \n",
            " e)                                                                  'dense_145[0][0]']           \n",
            "                                                                                                  \n",
            " concatenate_64 (Concatenat  (None, 256)                  0         ['dense_141[0][0]',           \n",
            " e)                                                                  'dense_143[0][0]']           \n",
            "                                                                                                  \n",
            " concatenate_65 (Concatenat  (None, 256)                  0         ['dense_143[0][0]',           \n",
            " e)                                                                  'dense_145[0][0]']           \n",
            "                                                                                                  \n",
            " dense_146 (Dense)           (None, 128)                  32896     ['concatenate_63[0][0]']      \n",
            "                                                                                                  \n",
            " dense_147 (Dense)           (None, 128)                  32896     ['concatenate_64[0][0]']      \n",
            "                                                                                                  \n",
            " dense_148 (Dense)           (None, 128)                  32896     ['concatenate_65[0][0]']      \n",
            "                                                                                                  \n",
            " concatenate_66 (Concatenat  (None, 256)                  0         ['dense_146[0][0]',           \n",
            " e)                                                                  'dense_148[0][0]']           \n",
            "                                                                                                  \n",
            " concatenate_67 (Concatenat  (None, 256)                  0         ['dense_146[0][0]',           \n",
            " e)                                                                  'dense_147[0][0]']           \n",
            "                                                                                                  \n",
            " concatenate_68 (Concatenat  (None, 256)                  0         ['dense_147[0][0]',           \n",
            " e)                                                                  'dense_148[0][0]']           \n",
            "                                                                                                  \n",
            " dense_149 (Dense)           (None, 128)                  32896     ['concatenate_66[0][0]']      \n",
            "                                                                                                  \n",
            " dense_150 (Dense)           (None, 128)                  32896     ['concatenate_67[0][0]']      \n",
            "                                                                                                  \n",
            " dense_151 (Dense)           (None, 128)                  32896     ['concatenate_68[0][0]']      \n",
            "                                                                                                  \n",
            " tf.math.add_77 (TFOpLambda  (None, 128)                  0         ['dense_141[0][0]',           \n",
            " )                                                                   'dense_143[0][0]']           \n",
            "                                                                                                  \n",
            " tf.math.add_79 (TFOpLambda  (None, 128)                  0         ['dense_146[0][0]',           \n",
            " )                                                                   'dense_147[0][0]']           \n",
            "                                                                                                  \n",
            " concatenate_69 (Concatenat  (None, 256)                  0         ['dense_149[0][0]',           \n",
            " e)                                                                  'dense_151[0][0]']           \n",
            "                                                                                                  \n",
            " concatenate_70 (Concatenat  (None, 256)                  0         ['dense_149[0][0]',           \n",
            " e)                                                                  'dense_150[0][0]']           \n",
            "                                                                                                  \n",
            " tf.math.add_78 (TFOpLambda  (None, 128)                  0         ['tf.math.add_77[0][0]',      \n",
            " )                                                                   'dense_145[0][0]']           \n",
            "                                                                                                  \n",
            " tf.math.add_80 (TFOpLambda  (None, 128)                  0         ['tf.math.add_79[0][0]',      \n",
            " )                                                                   'dense_148[0][0]']           \n",
            "                                                                                                  \n",
            " tf.math.add_81 (TFOpLambda  (None, 128)                  0         ['dense_149[0][0]',           \n",
            " )                                                                   'dense_150[0][0]']           \n",
            "                                                                                                  \n",
            " dense_152 (Dense)           (None, 128)                  32896     ['concatenate_69[0][0]']      \n",
            "                                                                                                  \n",
            " dense_153 (Dense)           (None, 128)                  32896     ['concatenate_70[0][0]']      \n",
            "                                                                                                  \n",
            " concatenate_71 (Concatenat  (None, 256)                  0         ['dense_150[0][0]',           \n",
            " e)                                                                  'dense_151[0][0]']           \n",
            "                                                                                                  \n",
            " tf.math.add_85 (TFOpLambda  (None, 128)                  0         ['tf.math.add_78[0][0]',      \n",
            " )                                                                   'tf.math.add_80[0][0]']      \n",
            "                                                                                                  \n",
            " tf.math.add_82 (TFOpLambda  (None, 128)                  0         ['tf.math.add_81[0][0]',      \n",
            " )                                                                   'dense_151[0][0]']           \n",
            "                                                                                                  \n",
            " tf.math.add_83 (TFOpLambda  (None, 128)                  0         ['dense_152[0][0]',           \n",
            " )                                                                   'dense_153[0][0]']           \n",
            "                                                                                                  \n",
            " dense_154 (Dense)           (None, 128)                  32896     ['concatenate_71[0][0]']      \n",
            "                                                                                                  \n",
            " tf.math.add_86 (TFOpLambda  (None, 128)                  0         ['tf.math.add_85[0][0]',      \n",
            " )                                                                   'tf.math.add_82[0][0]']      \n",
            "                                                                                                  \n",
            " tf.math.add_84 (TFOpLambda  (None, 128)                  0         ['tf.math.add_83[0][0]',      \n",
            " )                                                                   'dense_154[0][0]']           \n",
            "                                                                                                  \n",
            " tf.math.add_87 (TFOpLambda  (None, 128)                  0         ['tf.math.add_86[0][0]',      \n",
            " )                                                                   'tf.math.add_84[0][0]']      \n",
            "                                                                                                  \n",
            " dense_155 (Dense)           (None, 128)                  16512     ['tf.math.add_87[0][0]']      \n",
            "                                                                                                  \n",
            " dense_156 (Dense)           (None, 64)                   8256      ['dense_155[0][0]']           \n",
            "                                                                                                  \n",
            " dense_157 (Dense)           (None, 32)                   2080      ['dense_156[0][0]']           \n",
            "                                                                                                  \n",
            " dense_158 (Dense)           (None, 16)                   528       ['dense_157[0][0]']           \n",
            "                                                                                                  \n",
            " dense_159 (Dense)           (None, 7)                    119       ['dense_158[0][0]']           \n",
            "                                                                                                  \n",
            "==================================================================================================\n",
            "Total params: 574119 (2.19 MB)\n",
            "Trainable params: 574119 (2.19 MB)\n",
            "Non-trainable params: 0 (0.00 Byte)\n",
            "__________________________________________________________________________________________________\n"
          ]
        }
      ],
      "source": [
        "# Model Definition\n",
        "\n",
        "# Modality Specific Module\n",
        "class ModalitySpecificModule:\n",
        "  @staticmethod\n",
        "  def extract_modality_specific_interactions(input_layer):\n",
        "    bi_gru_output = keras.layers.Bidirectional(keras.layers.GRU(64))(input_layer)\n",
        "    msl_l1 = keras.layers.Dense(64, activation='relu')(bi_gru_output)\n",
        "    msl_output = keras.layers.Dense(128, activation='relu')(msl_l1)\n",
        "    return msl_output\n",
        "\n",
        "  # Input Definition\n",
        "  text_input = keras.Input(shape=(50, 300))\n",
        "  audio_input = keras.Input(shape=(50, 5))\n",
        "  visual_input = keras.Input(shape=(50, 20))\n",
        "\n",
        "  @staticmethod\n",
        "  def compute(text_input, audio_input, visual_input):\n",
        "    # Extract Modality Specific Interactions\n",
        "    text_msm_output = ModalitySpecificModule.extract_modality_specific_interactions(text_input)\n",
        "    audio_msm_output = ModalitySpecificModule.extract_modality_specific_interactions(audio_input)\n",
        "    visual_msm_output = ModalitySpecificModule.extract_modality_specific_interactions(visual_input)\n",
        "    return text_msm_output, audio_msm_output, visual_msm_output\n",
        "\n",
        "\n",
        "# Dense Multimodal Fusion Module\n",
        "class DenseMultimodalFusionModule:\n",
        "  residual_features = []\n",
        "  @staticmethod\n",
        "  def df_block(df_input1, df_input2, df_input3):\n",
        "    df_output1 = keras.layers.Dense(128, activation='relu')(df_input1)\n",
        "    df_output2 = keras.layers.Dense(128, activation='relu')(df_input2)\n",
        "    df_output3 = keras.layers.Dense(128, activation='relu')(df_input3)\n",
        "    return df_output1, df_output2, df_output3\n",
        "\n",
        "  @staticmethod\n",
        "  def dense_fusion_layer(f1, f2, f3):\n",
        "    df_input1 = keras.layers.Concatenate()([f1, f3])\n",
        "    df_input2 = keras.layers.Concatenate()([f1, f2])\n",
        "    df_input3 = keras.layers.Concatenate()([f2, f3])\n",
        "    r = tf.add(tf.add(f1, f2), f3)\n",
        "    DenseMultimodalFusionModule.residual_features.append(r)\n",
        "    fusion_output = DenseMultimodalFusionModule.df_block(df_input1, df_input2, df_input3)\n",
        "    return fusion_output\n",
        "\n",
        "  @staticmethod\n",
        "  def compute(f1_0, f2_0, f3_0):\n",
        "    f1_1, f2_1, f3_1 = DenseMultimodalFusionModule.dense_fusion_layer(f1_0, f2_0, f3_0)\n",
        "    f1_2, f2_2, f3_2 = DenseMultimodalFusionModule.dense_fusion_layer(f1_1, f2_1, f3_1)\n",
        "    f1_3, f2_3, f3_3 = DenseMultimodalFusionModule.dense_fusion_layer(f1_2, f2_2, f3_2)\n",
        "    r = tf.add(tf.add(f1_3, f2_3), f3_3)\n",
        "    DenseMultimodalFusionModule.residual_features.append(r)\n",
        "    return DenseMultimodalFusionModule.residual_features\n",
        "\n",
        "\n",
        "# Multimodal Residual Module\n",
        "class MultimodalResidualModule:\n",
        "  @staticmethod\n",
        "  def compute(residual_features):\n",
        "      final_residual_feature = residual_features[0]\n",
        "      for r in residual_features[1:]:\n",
        "          final_residual_feature = tf.add(final_residual_feature, r)\n",
        "      return final_residual_feature\n",
        "\n",
        "\n",
        "# Sentiment Classification Module\n",
        "class SentimentClassificationModule:\n",
        "\n",
        "  @staticmethod\n",
        "  def convertLabels(label):\n",
        "    result = 0\n",
        "    if label < -2:\n",
        "      result = -3\n",
        "    elif -2 <= label and label < -1:\n",
        "      result = -2\n",
        "    elif -1 <= label and label < 0:\n",
        "      result = -1\n",
        "    elif 0 <= label and label <= 0:\n",
        "      result = 0\n",
        "    elif 0 < label and label <= 1:\n",
        "      result = 1\n",
        "    elif 1 < label and label <= 2:\n",
        "      result = 2\n",
        "    elif label > 2:\n",
        "      result = 3\n",
        "\n",
        "    rep = {\n",
        "      -3 : [1., 0., 0., 0., 0., 0., 0.],\n",
        "      -2 : [0., 1., 0., 0., 0., 0., 0.],\n",
        "      -1 : [0., 0., 1., 0., 0., 0., 0.],\n",
        "      0 : [0., 0., 0., 1., 0., 0., 0.],\n",
        "      1 : [0., 0., 0., 0., 1., 0., 0.],\n",
        "      2 : [0., 0., 0., 0., 0., 1., 0.],\n",
        "      3 : [0., 0., 0., 0., 0., 0., 1.]\n",
        "    }\n",
        "\n",
        "    return tf.convert_to_tensor(rep[result])\n",
        "\n",
        "  @staticmethod\n",
        "  def compute(residual_feature):\n",
        "    output_l1 = keras.layers.Dense(128, activation='relu')(residual_feature)\n",
        "    output_l2 = keras.layers.Dense(64, activation='relu')(output_l1)\n",
        "    output_l3 = keras.layers.Dense(32, activation='relu')(output_l2)\n",
        "    output_l4 = keras.layers.Dense(16, activation='relu')(output_l3)\n",
        "\n",
        "    num_classes = 7\n",
        "    sentiment = keras.layers.Dense(num_classes, activation='softmax')(output_l4)\n",
        "    return sentiment\n",
        "\n",
        "\n",
        "text_input, audio_input, visual_input = ModalitySpecificModule.text_input, ModalitySpecificModule.audio_input, ModalitySpecificModule.visual_input\n",
        "text_msm_output, audio_msm_output, visual_msm_output = ModalitySpecificModule.compute(text_input, audio_input, visual_input)\n",
        "residual_features = DenseMultimodalFusionModule.compute(text_msm_output, audio_msm_output, visual_msm_output)\n",
        "final_residual_feature = MultimodalResidualModule.compute(residual_features)\n",
        "output = SentimentClassificationModule.compute(final_residual_feature)\n",
        "\n",
        "model = keras.Model(inputs=[text_input, audio_input, visual_input], outputs=output)\n",
        "\n",
        "model.summary()"
      ]
    },
    {
      "cell_type": "code",
      "execution_count": null,
      "metadata": {
        "id": "cf09a17fTkIh"
      },
      "outputs": [],
      "source": [
        "model.compile(\n",
        "  optimizer='adam',\n",
        "  loss=keras.losses.MeanAbsoluteError(),\n",
        "  metrics=[\n",
        "    keras.metrics.Accuracy()\n",
        "  ]\n",
        ")"
      ]
    },
    {
      "cell_type": "code",
      "execution_count": null,
      "metadata": {
        "id": "rHen50HgTkIh"
      },
      "outputs": [],
      "source": [
        "with open('/content/drive/MyDrive/Colab Notebooks/Multimodal Sentiment Analysis/mosi_data.pkl', 'rb') as fp:\n",
        "  data = pickle.load(fp)"
      ]
    },
    {
      "cell_type": "code",
      "execution_count": null,
      "metadata": {
        "colab": {
          "base_uri": "https://localhost:8080/"
        },
        "id": "gpsg4rugTkIh",
        "outputId": "70ea6a54-8b16-44b6-b841-7505c4627ba5"
      },
      "outputs": [
        {
          "output_type": "stream",
          "name": "stdout",
          "text": [
            "dict_keys(['valid', 'test', 'train'])\n",
            "dict_keys(['vision', 'labels', 'text', 'audio', 'id'])\n",
            "(1284, 50, 20)\n",
            "(1284, 50, 5)\n",
            "(1284, 50, 300)\n",
            "(1284, 1, 1)\n",
            "(3,)\n"
          ]
        }
      ],
      "source": [
        "print(data.keys())\n",
        "print(data['train'].keys())\n",
        "print(data['train']['vision'].shape)\n",
        "print(data['train']['audio'].shape)\n",
        "print(data['train']['text'].shape)\n",
        "print(data['train']['labels'].shape)\n",
        "print(data['train']['id'][0].shape)"
      ]
    },
    {
      "cell_type": "code",
      "execution_count": null,
      "metadata": {
        "id": "xfluVpozTkIi"
      },
      "outputs": [],
      "source": [
        "def prepare_data(type):\n",
        "  text_input = tf.convert_to_tensor(data[type]['text'])\n",
        "  audio_input = tf.convert_to_tensor(data[type]['audio'])\n",
        "  visual_input = tf.convert_to_tensor(data[type]['vision'])\n",
        "  labels = [SentimentClassificationModule.convertLabels(element) for element in data[type]['labels'][:, 0][:, 0]]\n",
        "  labels = np.array(labels, dtype=np.float32)\n",
        "  return text_input, audio_input, visual_input, labels\n",
        "\n",
        "train_text_input, train_audio_input, train_visual_input, train_labels = prepare_data('train')\n",
        "valid_text_input, valid_audio_input, valid_visual_input, valid_labels = prepare_data('valid')"
      ]
    },
    {
      "cell_type": "code",
      "source": [
        "type(train_labels)"
      ],
      "metadata": {
        "colab": {
          "base_uri": "https://localhost:8080/"
        },
        "id": "MmFQFIQbaVDu",
        "outputId": "870039de-1c77-4812-fd09-bec7bf244470"
      },
      "execution_count": null,
      "outputs": [
        {
          "output_type": "execute_result",
          "data": {
            "text/plain": [
              "numpy.ndarray"
            ]
          },
          "metadata": {},
          "execution_count": 89
        }
      ]
    },
    {
      "cell_type": "code",
      "execution_count": null,
      "metadata": {
        "id": "wpZqx1IfTkIi"
      },
      "outputs": [],
      "source": [
        "training_dataset = [train_text_input, train_audio_input, train_visual_input]\n",
        "validation_data = ([valid_text_input, valid_audio_input, valid_visual_input], valid_labels)"
      ]
    },
    {
      "cell_type": "code",
      "execution_count": null,
      "metadata": {
        "colab": {
          "base_uri": "https://localhost:8080/"
        },
        "id": "2C9RBd1TTkIi",
        "outputId": "dae951fa-8d33-490a-cd79-c1a7448204d3"
      },
      "outputs": [
        {
          "output_type": "stream",
          "name": "stdout",
          "text": [
            "Epoch 1/10\n",
            "41/41 [==============================] - 26s 243ms/step - loss: 0.2344 - accuracy: 0.0000e+00 - val_loss: 0.2445 - val_accuracy: 0.0000e+00\n",
            "Epoch 2/10\n",
            "41/41 [==============================] - 6s 146ms/step - loss: 0.2265 - accuracy: 0.0000e+00 - val_loss: 0.2287 - val_accuracy: 0.0000e+00\n",
            "Epoch 3/10\n",
            "41/41 [==============================] - 8s 186ms/step - loss: 0.2154 - accuracy: 0.0013 - val_loss: 0.2283 - val_accuracy: 0.0062\n",
            "Epoch 4/10\n",
            "41/41 [==============================] - 6s 147ms/step - loss: 0.2154 - accuracy: 0.0144 - val_loss: 0.2283 - val_accuracy: 0.0087\n",
            "Epoch 5/10\n",
            "41/41 [==============================] - 8s 185ms/step - loss: 0.2154 - accuracy: 0.0166 - val_loss: 0.2283 - val_accuracy: 0.0087\n",
            "Epoch 6/10\n",
            "41/41 [==============================] - 6s 156ms/step - loss: 0.2154 - accuracy: 0.0176 - val_loss: 0.2283 - val_accuracy: 0.0094\n",
            "Epoch 7/10\n",
            "41/41 [==============================] - 8s 193ms/step - loss: 0.2154 - accuracy: 0.0178 - val_loss: 0.2283 - val_accuracy: 0.0094\n",
            "Epoch 8/10\n",
            "41/41 [==============================] - 7s 163ms/step - loss: 0.2154 - accuracy: 0.0181 - val_loss: 0.2283 - val_accuracy: 0.0100\n",
            "Epoch 9/10\n",
            "41/41 [==============================] - 8s 197ms/step - loss: 0.2154 - accuracy: 0.0188 - val_loss: 0.2283 - val_accuracy: 0.0106\n",
            "Epoch 10/10\n",
            "41/41 [==============================] - 6s 146ms/step - loss: 0.2154 - accuracy: 0.0194 - val_loss: 0.2283 - val_accuracy: 0.0106\n"
          ]
        }
      ],
      "source": [
        "epochs = 10\n",
        "history = model.fit(training_dataset, train_labels, validation_data=validation_data, epochs=epochs)"
      ]
    },
    {
      "cell_type": "code",
      "source": [
        "acc = history.history['accuracy']\n",
        "val_acc = history.history['val_accuracy']\n",
        "\n",
        "loss = history.history['loss']\n",
        "val_loss = history.history['val_loss']\n",
        "\n",
        "epochs_range = range(epochs)\n",
        "\n",
        "plt.figure(figsize=(8, 8))\n",
        "plt.subplot(1, 2, 1)\n",
        "plt.plot(epochs_range, acc, label='Training Accuracy')\n",
        "plt.plot(epochs_range, val_acc, label='Validation Accuracy')\n",
        "plt.legend(loc='lower right')\n",
        "plt.title('Training and Validation Accuracy')\n",
        "\n",
        "plt.subplot(1, 2, 2)\n",
        "plt.plot(epochs_range, loss, label='Training Loss')\n",
        "plt.plot(epochs_range, val_loss, label='Validation Loss')\n",
        "plt.legend(loc='upper right')\n",
        "plt.title('Training and Validation Loss')\n",
        "plt.show()"
      ],
      "metadata": {
        "colab": {
          "base_uri": "https://localhost:8080/",
          "height": 699
        },
        "id": "tXvgtzVeuZK7",
        "outputId": "448ef199-e745-44fd-e98b-da1ed7d8cba1"
      },
      "execution_count": null,
      "outputs": [
        {
          "output_type": "display_data",
          "data": {
            "text/plain": [
              "<Figure size 800x800 with 2 Axes>"
            ],
            "image/png": "[encoded data removed]"
          },
          "metadata": {}
        }
      ]
    },
    {
      "cell_type": "code",
      "source": [
        "test_text_input, test_audio_input, test_visual_input, test_labels = prepare_data('test')\n",
        "test_dataset = [test_text_input, test_audio_input, test_visual_input]\n",
        "\n",
        "print(\"Evaluate on test data\")\n",
        "results = model.evaluate(test_dataset, test_labels)\n",
        "print(\"test loss, test acc:\", results)"
      ],
      "metadata": {
        "colab": {
          "base_uri": "https://localhost:8080/"
        },
        "id": "TjgkYmjV6LoK",
        "outputId": "8068ddec-f8f0-4760-c978-62d6459cbf4c"
      },
      "execution_count": null,
      "outputs": [
        {
          "output_type": "stream",
          "name": "stdout",
          "text": [
            "Evaluate on test data\n",
            "22/22 [==============================] - 2s 101ms/step - loss: 0.2357 - accuracy: 0.0183\n",
            "test loss, test acc: [0.23573511838912964, 0.018325697630643845]\n"
          ]
        }
      ]
    }
  ],
  "metadata": {
    "kernelspec": {
      "display_name": ".venv",
      "language": "python",
      "name": "python3"
    },
    "language_info": {
      "codemirror_mode": {
        "name": "ipython",
        "version": 3
      },
      "file_extension": ".py",
      "mimetype": "text/x-python",
      "name": "python",
      "nbconvert_exporter": "python",
      "pygments_lexer": "ipython3",
      "version": "3.11.2"
    },
    "colab": {
      "provenance": []
    }
  },
  "nbformat": 4,
  "nbformat_minor": 0
}